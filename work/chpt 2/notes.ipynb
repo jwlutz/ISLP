{
 "cells": [
  {
   "cell_type": "code",
   "execution_count": 1,
   "id": "b4791ddc",
   "metadata": {},
   "outputs": [
    {
     "name": "stdout",
     "output_type": "stream",
     "text": [
      "all good\n"
     ]
    }
   ],
   "source": [
    "import pandas, sklearn, ISLP\n",
    "print(\"all good\")"
   ]
  },
  {
   "cell_type": "markdown",
   "id": "757b2e01",
   "metadata": {},
   "source": [
    "3 types of models:\n",
    "- regression\n",
    "- classification\n",
    "- clustering\n",
    "\n",
    "general tradeoff between flexibility and interpretibility\n",
    "\n",
    "highly flexible models tend to overfit.  Will have super low error for test data and super high for out of sample data.\n",
    "\n",
    "too simple may not capture trends of data, whereas highly flexible tend to find nuances even when they're not there.  "
   ]
  },
  {
   "cell_type": "code",
   "execution_count": null,
   "id": "fd2986c0",
   "metadata": {},
   "outputs": [],
   "source": [
    "y = [] #list\n",
    "#lists are added with concatenation (little unintuitive)\n",
    "\n",
    "#string addition\n",
    "ex = \"add \" + \"string \" + \"with \" + \"+\"\n",
    "print(ex)\n",
    "\n",
    "import numpy as np\n",
    "#np.array adds array elements, doesn't use concatenation\n",
    "#numpy \n"
   ]
  }
 ],
 "metadata": {
  "kernelspec": {
   "display_name": ".venv",
   "language": "python",
   "name": "python3"
  },
  "language_info": {
   "codemirror_mode": {
    "name": "ipython",
    "version": 3
   },
   "file_extension": ".py",
   "mimetype": "text/x-python",
   "name": "python",
   "nbconvert_exporter": "python",
   "pygments_lexer": "ipython3",
   "version": "3.11.9"
  }
 },
 "nbformat": 4,
 "nbformat_minor": 5
}
